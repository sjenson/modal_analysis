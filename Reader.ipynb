{
 "cells": [
  {
   "cell_type": "code",
   "execution_count": 25,
   "metadata": {
    "collapsed": true
   },
   "outputs": [],
   "source": [
    "import numpy as np"
   ]
  },
  {
   "cell_type": "markdown",
   "metadata": {},
   "source": [
    "### Mode File Format\n",
    "`\n",
    "number of vertices (n)\n",
    "number of triangles (t)\n",
    "number of modes (m)\n",
    "vertex_0.x vertex_0.y vertex_0.z vertex_0.weight \n",
    "vertex_1.x vertex_1.y vertex_1.z vertex_1.weight\n",
    "...  \n",
    "vertex_(n-1).x vertex_(n-1).y vertex_(n-1).z vertex_(n-1).weight\n",
    "triangle_0.index_0 triangle_0.index_1 triangle_0.index_2  \n",
    "...  \n",
    "triangle_(n-1).index_0 triangle_(n-1).index_1 triangle_(n-1).index_2\n",
    "freq_0 (in Hz)\n",
    "freq_1 \n",
    "...\n",
    "freq_(m-1)\n",
    "damping_0\n",
    "damping_1\n",
    "...\n",
    "damping(m-1)\n",
    "G_(0,0) G_(1,0) ... G_((3*n)-1,0)\n",
    "...     ...     ... ...\n",
    "G_(0,m) G_(1,m) ... G_((3*n)-1,m)\n",
    "END\n",
    "`\n",
    "\n",
    "#### Notes:\n",
    "* damping normalized between 0 and 1\n",
    "* only uses audible frequencies (relevant if scaling frequencies)\n",
    "* G is actually G<sup>-1</sup>, and shaped to correspond to audible modes"
   ]
  },
  {
   "cell_type": "code",
   "execution_count": 23,
   "metadata": {
    "collapsed": false
   },
   "outputs": [],
   "source": [
    "with open(\"./alabama.modes\", \"r\") as f:\n",
    "    lines = f.readlines()\n",
    "    \n",
    "    n = int(lines[0])\n",
    "    t = int(lines[1])\n",
    "    m = int(lines[2])\n",
    "    \n",
    "    idx = 3\n",
    "    \n",
    "    verts = []\n",
    "    for i in range(n):\n",
    "        verts.append([float(x) for x in lines[idx].split()])\n",
    "        idx += 1\n",
    "    \n",
    "    tris = []\n",
    "    for i in range(t):\n",
    "        tris.append([int(x) for x in lines[idx].split()])\n",
    "        idx += 1\n",
    "        \n",
    "    modes = []\n",
    "    for i in range(m):\n",
    "        modes.append(float(lines[idx]))\n",
    "        idx += 1\n",
    "    \n",
    "    damps = []\n",
    "    for i in range(m):\n",
    "        damps.append(float(lines[idx]))\n",
    "        idx += 1\n",
    "    \n",
    "    G = np.zeros((3*n, m))\n",
    "    \n",
    "    for j in range(m):\n",
    "        G[:, j] = [float(x) for x in lines[idx].split()]\n",
    "        idx += 1"
   ]
  }
 ],
 "metadata": {
  "kernelspec": {
   "display_name": "Python 3",
   "language": "python",
   "name": "python3"
  },
  "language_info": {
   "codemirror_mode": {
    "name": "ipython",
    "version": 3
   },
   "file_extension": ".py",
   "mimetype": "text/x-python",
   "name": "python",
   "nbconvert_exporter": "python",
   "pygments_lexer": "ipython3",
   "version": "3.5.1"
  }
 },
 "nbformat": 4,
 "nbformat_minor": 0
}
