{
 "cells": [
  {
   "cell_type": "code",
   "execution_count": 149,
   "metadata": {
    "collapsed": true
   },
   "outputs": [],
   "source": [
    "import numpy as np"
   ]
  },
  {
   "cell_type": "code",
   "execution_count": 150,
   "metadata": {
    "collapsed": true
   },
   "outputs": [],
   "source": [
    "num_modes = 100\n",
    "in_file = \"./modes/test.rmodes\"\n",
    "out_file = \"./modes/test-sorted.rmodes\""
   ]
  },
  {
   "cell_type": "code",
   "execution_count": 151,
   "metadata": {
    "collapsed": false
   },
   "outputs": [],
   "source": [
    "with open(in_file, \"r\") as f:\n",
    "    lines = f.readlines()\n",
    "\n",
    "    n = int(lines[0])\n",
    "    t = int(lines[1])\n",
    "    m = int(lines[2])\n",
    "\n",
    "    idx = 3\n",
    "\n",
    "    verts = []\n",
    "    weights = []\n",
    "    for i in range(n):\n",
    "        verts.append([float(x) for x in lines[idx].split()])\n",
    "        idx += 1\n",
    "\n",
    "    weights = [x[3] for x in verts]\n",
    "    verts = [x[:3] for x in verts]\n",
    "\n",
    "    tris = []\n",
    "    for i in range(t):\n",
    "        tris.append([int(x) for x in lines[idx].split()])\n",
    "        idx += 1\n",
    "\n",
    "    modes = []\n",
    "    for i in range(m):\n",
    "        modes.append(float(lines[idx]))\n",
    "        idx += 1\n",
    "\n",
    "    damps = []\n",
    "    for i in range(m):\n",
    "        damps.append(float(lines[idx]))\n",
    "        idx += 1\n",
    "\n",
    "    G = np.zeros((n, m))\n",
    "\n",
    "    for i in range(m):\n",
    "        G[:, i] = [float(x) for x in lines[idx].split()]\n",
    "        idx += 1\n",
    "\n",
    "    # n is number of vertices\n",
    "    # t is number of triangles\n",
    "    # m is number of modes\n",
    "\n",
    "    verts = np.array(verts)     # array of vertices\n",
    "    weights = np.array(weights) # array of weights\n",
    "    tris = np.array(tris)       # array of triangles\n",
    "\n",
    "    modes = np.array(modes)     # array of mode frequencies\n",
    "    damps = np.array(damps)     # array of dampening exponents\n",
    "\n",
    "    # Each line in G is the gain values for a certain vertex\n",
    "    # therefore G is m columns wide and n rows tall\n",
    "    \n"
   ]
  },
  {
   "cell_type": "code",
   "execution_count": 152,
   "metadata": {
    "collapsed": false
   },
   "outputs": [],
   "source": [
    "# sort by a value\n",
    "inds = damps.argsort() # get the indices of the sorted modes\n",
    "\n",
    "modes = modes[inds]\n",
    "damps = damps[inds]\n",
    "G = G[:, inds]"
   ]
  },
  {
   "cell_type": "code",
   "execution_count": 153,
   "metadata": {
    "collapsed": true
   },
   "outputs": [],
   "source": [
    "# get rid of unwanted modes:\n",
    "if num_modes < m:\n",
    "    m = num_modes\n",
    "    modes = modes[:num_modes]\n",
    "    damps = damps[:num_modes]\n",
    "    G = G[:,:num_modes]"
   ]
  },
  {
   "cell_type": "code",
   "execution_count": 154,
   "metadata": {
    "collapsed": true
   },
   "outputs": [],
   "source": [
    "with open(out_file, 'w') as f:\n",
    "    f.write(str(len(verts)) + \"\\n\")\n",
    "    f.write(str(len(tris))  + \"\\n\")\n",
    "    f.write(str(len(modes)) + \"\\n\")\n",
    "    for v, w in zip(verts, weights):\n",
    "        f.write(str(v[0])+\" \"+str(v[1])+\" \"+str(v[2])+\" \"+str(w)+\"\\n\")\n",
    "    for face in tris:\n",
    "        f.write(str(face[0])+\" \"+str(face[1])+\" \"+str(face[2])+\"\\n\")\n",
    "    for hz in modes:\n",
    "        f.write(str(hz) + \"\\n\")\n",
    "    for d in damps:\n",
    "        f.write(str(d) + \"\\n\")\n",
    "    for row in G.T:\n",
    "        for g in row:\n",
    "            f.write(str(g) + \" \")\n",
    "        f.write(\"\\n\")\n",
    "    f.write(\"END\\n\")"
   ]
  }
 ],
 "metadata": {
  "kernelspec": {
   "display_name": "Python 3",
   "language": "python",
   "name": "python3"
  },
  "language_info": {
   "codemirror_mode": {
    "name": "ipython",
    "version": 3
   },
   "file_extension": ".py",
   "mimetype": "text/x-python",
   "name": "python",
   "nbconvert_exporter": "python",
   "pygments_lexer": "ipython3",
   "version": "3.5.1"
  }
 },
 "nbformat": 4,
 "nbformat_minor": 0
}
