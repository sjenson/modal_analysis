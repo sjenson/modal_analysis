{
 "cells": [
  {
   "cell_type": "code",
   "execution_count": 1,
   "metadata": {
    "collapsed": false
   },
   "outputs": [],
   "source": [
    "import numpy as np\n",
    "import math\n",
    "import scipy.io.wavfile\n",
    "from my_util import load_obj, unit_vector, angle_between\n",
    "from scipy.linalg import eig, norm\n",
    "import matplotlib.pyplot as plt\n",
    "from pickle import dump, load"
   ]
  },
  {
   "cell_type": "markdown",
   "metadata": {},
   "source": [
    "# Load mesh and construct matrices"
   ]
  },
  {
   "cell_type": "code",
   "execution_count": 21,
   "metadata": {
    "collapsed": false,
    "scrolled": true
   },
   "outputs": [],
   "source": [
    "mesh_file = \"meshes/railing.obj\""
   ]
  },
  {
   "cell_type": "code",
   "execution_count": 22,
   "metadata": {
    "collapsed": true
   },
   "outputs": [],
   "source": [
    "# Material properties\n",
    "# Glass from example-based modal synthesis paper (Lin)\n",
    "Y = 6.2e10\n",
    "density = 2600\n",
    "thickness = 0.1\n",
    "\n",
    "alpha = η = 1.8301e2\n",
    "beta = γ = 1.4342e-7\n",
    "\n",
    "k = Y*thickness"
   ]
  },
  {
   "cell_type": "code",
   "execution_count": 23,
   "metadata": {
    "collapsed": false
   },
   "outputs": [],
   "source": [
    "# Load file using my_util loader\n",
    "V, faces, edges = load_obj(mesh_file)"
   ]
  },
  {
   "cell_type": "code",
   "execution_count": 24,
   "metadata": {
    "collapsed": false
   },
   "outputs": [],
   "source": [
    "# Extract other relevant information from the mesh including edge length and weight\n",
    "\n",
    "edge_lengths = np.zeros((len(edges),))\n",
    "for i, e in enumerate(edges):\n",
    "    edge_lengths[i] = norm((V[e[0]] - V[e[1]]))\n",
    "\n",
    "vertex_weights = np.zeros((len(V),))\n",
    "for face in faces:\n",
    "    # get area of the face\n",
    "    a = V[face[0]]\n",
    "    b = V[face[1]]\n",
    "    c = V[face[2]]\n",
    "    \n",
    "    theta = angle_between(b-a, c-a)\n",
    "    area = .5*norm(b-a)*norm(c-a)*math.sin(theta)\n",
    "    \n",
    "    for v in face:\n",
    "        vertex_weights[v] += area"
   ]
  },
  {
   "cell_type": "code",
   "execution_count": 25,
   "metadata": {
    "collapsed": false
   },
   "outputs": [],
   "source": [
    "# Calculate the stiffness matrix\n",
    "# (K_ij = k / l * v * v^T)\n",
    "\n",
    "dim = len(V)*3\n",
    "K = np.zeros((dim, dim))\n",
    "\n",
    "for i, edge in enumerate(edges):\n",
    "    # compute the direction unit vector\n",
    "    unit = V[edge[1]] - V[edge[0]]\n",
    "    unit /= norm(unit)\n",
    "    unit.shape = (3, 1)\n",
    "    \n",
    "    submatrix = (k/edge_lengths[i])*unit.dot(unit.T)\n",
    "    \n",
    "    x = edge[0]*3\n",
    "    y = edge[1]*3\n",
    "    K[x:x+3, y:y+3] = submatrix\n",
    "    K[y:y+3, x:x+3] = submatrix.T"
   ]
  },
  {
   "cell_type": "markdown",
   "metadata": {},
   "source": [
    "# Calculate modes"
   ]
  },
  {
   "cell_type": "code",
   "execution_count": null,
   "metadata": {
    "collapsed": true
   },
   "outputs": [],
   "source": [
    "# Eigendecomposition of the stiffness matrix\n",
    "D, G = eig(K)"
   ]
  },
  {
   "cell_type": "code",
   "execution_count": 16,
   "metadata": {
    "collapsed": false
   },
   "outputs": [],
   "source": [
    "# optional save the files\n",
    "with open('cache/D.matrix', 'wb') as f:\n",
    "    dump(D, f)\n",
    "\n",
    "with open('cache/G.matrix', 'wb') as f:\n",
    "    dump(G, f)"
   ]
  },
  {
   "cell_type": "code",
   "execution_count": 3,
   "metadata": {
    "collapsed": false
   },
   "outputs": [],
   "source": [
    "# optional load the files\n",
    "with open('cache/D.matrix', 'rb') as f:\n",
    "    D = load(f)\n",
    "\n",
    "with open('cache/G.matrix', 'rb') as f:\n",
    "    G = load(f)"
   ]
  },
  {
   "cell_type": "code",
   "execution_count": 8,
   "metadata": {
    "collapsed": false
   },
   "outputs": [],
   "source": [
    "# calculate the relevant mode information (frequencies, G_inv, damping coefficients)\n",
    "eigs_pos = np.array([(-(γ*x+η) + np.sqrt((γ*x+η)*(γ*x+η) - (4*x) + 0J))/2 for x in D])\n",
    "eigs_neg = np.array([(-(γ*x+η) - np.sqrt((γ*x+η)*(γ*x+η) - (4*x) + 0J))/2 for x in D])\n",
    "\n",
    "freqs = np.array([abs(x)/(2*math.pi) for x in eigs_pos.imag])\n",
    "damps = abs(eigs_pos.real)\n",
    "max_damps = max(damps)\n",
    "damps = np.array([d/max_damps for d in damps])\n",
    "G_inv = np.linalg.inv(G.real)\n",
    "\n",
    "bool_array = np.array([x>20 and x<22000 for x in freqs])\n",
    "\n",
    "freqs = freqs[bool_array]\n",
    "G_inv = G_inv[bool_array]\n",
    "damps = damps[bool_array]"
   ]
  },
  {
   "cell_type": "markdown",
   "metadata": {
    "collapsed": true
   },
   "source": [
    "# Saving to File\n",
    "\n",
    "### Mode File Format\n",
    "`\n",
    "number of vertices (n)\n",
    "number of triangles (t)\n",
    "number of modes (m)\n",
    "vertex_0.x vertex_0.y vertex_0.z vertex_0.weight \n",
    "vertex_1.x vertex_1.y vertex_1.z vertex_1.weight\n",
    "...  \n",
    "vertex_(n-1).x vertex_(n-1).y vertex_(n-1).z vertex_(n-1).weight\n",
    "triangle_0.index_0 triangle_0.index_1 triangle_0.index_2  \n",
    "...  \n",
    "triangle_(n-1).index_0 triangle_(n-1).index_1 triangle_(n-1).index_2\n",
    "freq_0 (in Hz)\n",
    "freq_1 \n",
    "...\n",
    "freq_(m-1)\n",
    "damping_0\n",
    "damping_1\n",
    "...\n",
    "damping(m-1)\n",
    "G_(0,0) G_(1,0) ... G_((3*n)-1,0)\n",
    "...     ...     ... ...\n",
    "G_(0,m) G_(1,m) ... G_((3*n)-1,m)\n",
    "END\n",
    "`\n",
    "\n",
    "#### Notes:\n",
    "* damping normalized between 0 and 1\n",
    "* only uses audible frequencies (relevant if scaling frequencies)\n",
    "* G is actually G<sup>-1</sup>, and shaped to correspond to audible modes"
   ]
  },
  {
   "cell_type": "code",
   "execution_count": 11,
   "metadata": {
    "collapsed": true
   },
   "outputs": [],
   "source": [
    "def write_to_file(filename):\n",
    "    with open(filename, 'w') as f:\n",
    "        f.write(str(len(V))     + \"\\n\")\n",
    "        f.write(str(len(faces)) + \"\\n\")\n",
    "        f.write(str(len(freqs)) + \"\\n\")\n",
    "        for v, w in zip(V, vertex_weights):\n",
    "            f.write(str(v[0]) + \" \" + str(v[1]) + \" \" + str(v[2]) + \" \" + str(w) + \"\\n\")\n",
    "        for face in faces:\n",
    "            f.write(str(face[0]) + \" \" + str(face[1]) + \" \" + str(face[2]) + \"\\n\")\n",
    "        for hz in freqs:\n",
    "            f.write(str(hz) + \"\\n\")\n",
    "        for d in damps:\n",
    "            f.write(str(d) + \"\\n\")\n",
    "        for row in G_inv:\n",
    "            for g in row:\n",
    "                f.write(str(g) + \" \")\n",
    "            f.write(\"\\n\")\n",
    "        f.write(\"END\\n\")"
   ]
  },
  {
   "cell_type": "code",
   "execution_count": 14,
   "metadata": {
    "collapsed": false
   },
   "outputs": [
    {
     "ename": "NameError",
     "evalue": "name 'write_to_file' is not defined",
     "output_type": "error",
     "traceback": [
      "\u001b[0;31m---------------------------------------------------------------------------\u001b[0m",
      "\u001b[0;31mNameError\u001b[0m                                 Traceback (most recent call last)",
      "\u001b[0;32m<ipython-input-14-d94b1ec5508d>\u001b[0m in \u001b[0;36m<module>\u001b[0;34m()\u001b[0m\n\u001b[0;32m----> 1\u001b[0;31m \u001b[0mwrite_to_file\u001b[0m\u001b[0;34m(\u001b[0m\u001b[0;34m\"modes/alabama.modes\"\u001b[0m\u001b[0;34m)\u001b[0m\u001b[0;34m\u001b[0m\u001b[0m\n\u001b[0m",
      "\u001b[0;31mNameError\u001b[0m: name 'write_to_file' is not defined"
     ]
    }
   ],
   "source": [
    "write_to_file(\"modes/alabama.modes\")"
   ]
  },
  {
   "cell_type": "markdown",
   "metadata": {},
   "source": [
    "# Write Reduced Modes"
   ]
  },
  {
   "cell_type": "code",
   "execution_count": null,
   "metadata": {
    "collapsed": true
   },
   "outputs": [],
   "source": [
    "rmodes = np.zeros(G_inv.T.shape)"
   ]
  },
  {
   "cell_type": "code",
   "execution_count": null,
   "metadata": {
    "collapsed": false
   },
   "outputs": [],
   "source": [
    "impulse = np.zeros((len(V)*3,))\n",
    "impulse.shape = (len(V)*3, 1)\n",
    "impulse[0] = 1\n",
    "impulse[1] = 0\n",
    "impulse[2] = 0"
   ]
  },
  {
   "cell_type": "code",
   "execution_count": null,
   "metadata": {
    "collapsed": true
   },
   "outputs": [],
   "source": [
    "# calculate final gain values and format relevant stuff as list (fgd_final)\n",
    "\n",
    "gains = G_inv.dot(impulse)\n",
    "pairs = [(f, abs(g[0])) for f, g in zip(freqs, gains)]\n",
    "#m = max(lol,key = lambda x: x[1])[1]\n",
    "#fgd_final = [(f, g[0], d) for f, g, d in zip(freqs, gains, damps)]"
   ]
  },
  {
   "cell_type": "code",
   "execution_count": null,
   "metadata": {
    "collapsed": false
   },
   "outputs": [],
   "source": [
    "rmodes = np.zeros((len(vertex_weights), len(freqs)))\n",
    "\n",
    "max_gain = 0\n",
    "for i in range(len(vertex_weights)):\n",
    "    v = vertex_weights[i]\n",
    "    impulse = np.zeros((len(V)*3,))\n",
    "    impulse.shape = (len(V)*3, 1)\n",
    "    impulse[0] = v\n",
    "    impulse[1] = 0\n",
    "    impulse[2] = 0\n",
    "    \n",
    "    gains = G_inv.dot(impulse)\n",
    "    gains = abs(gains)\n",
    "    \n",
    "    m = max(gains)\n",
    "    if m > max_gain:\n",
    "        max_gain = m\n",
    "    \n",
    "    rmodes[i,:] = gains.T\n",
    "    \n",
    "rmodes = rmodes.T\n",
    "rmodes /= m"
   ]
  },
  {
   "cell_type": "code",
   "execution_count": null,
   "metadata": {
    "collapsed": true
   },
   "outputs": [],
   "source": [
    "def write_reduced(filename):\n",
    "    with open(filename, 'w') as f:\n",
    "        f.write(str(len(V))     + \"\\n\")\n",
    "        f.write(str(len(faces)) + \"\\n\")\n",
    "        f.write(str(len(freqs)) + \"\\n\")\n",
    "        for v, w in zip(V, vertex_weights):\n",
    "            f.write(str(v[0]) + \" \" + str(v[1]) + \" \" + str(v[2]) + \" \" + str(w) + \"\\n\")\n",
    "        for face in faces:\n",
    "            f.write(str(face[0]) + \" \" + str(face[1]) + \" \" + str(face[2]) + \"\\n\")\n",
    "        for hz in freqs:\n",
    "            f.write(str(hz) + \"\\n\")\n",
    "        for d in damps:\n",
    "            f.write(str(d) + \"\\n\")\n",
    "        for row in rmodes:\n",
    "            for g in row:\n",
    "                f.write(str(g) + \" \")\n",
    "            f.write(\"\\n\")\n",
    "        f.write(\"END\\n\")"
   ]
  },
  {
   "cell_type": "code",
   "execution_count": null,
   "metadata": {
    "collapsed": true
   },
   "outputs": [],
   "source": [
    "fname = \"modes/railing.rmodes\"\n",
    "write_reduced(fname)"
   ]
  },
  {
   "cell_type": "markdown",
   "metadata": {},
   "source": [
    "# Test Audio Output"
   ]
  },
  {
   "cell_type": "code",
   "execution_count": 91,
   "metadata": {
    "collapsed": false
   },
   "outputs": [],
   "source": [
    "# make sample impulse\n",
    "\n",
    "impulse = np.zeros((len(V)*3,))\n",
    "impulse.shape = (len(V)*3, 1)\n",
    "impulse[len(V)*3//2] = 1\n",
    "impulse[len(V)*3//2+1] = 1\n",
    "impulse[len(V)*3//2+2] = 1\n",
    "impulse[len(V)*3//2+12] = 1\n",
    "impulse[len(V)*3//2+20] = 1\n",
    "impulse[len(V)*3//2+21] = 1"
   ]
  },
  {
   "cell_type": "code",
   "execution_count": 118,
   "metadata": {
    "collapsed": false
   },
   "outputs": [],
   "source": [
    "# calculate final gain values and format relevant stuff as list (fgd_final)\n",
    "\n",
    "gains = G_inv.dot(impulse)\n",
    "lol = [(f, abs(g[0])) for f, g in zip(freqs, gains) if f > 20 and f < 20000]\n",
    "m = max(lol,key = lambda x: x[1])[1]\n",
    "fgd_final = [(f, g[0]/m, d) for f, g, d in zip(freqs, gains, damps) if f > 20 and f < 20000 and abs(g[0])/m > .1 and g[0] > 0]"
   ]
  },
  {
   "cell_type": "code",
   "execution_count": 120,
   "metadata": {
    "collapsed": false,
    "scrolled": true
   },
   "outputs": [],
   "source": [
    "SR = 44100\n",
    "length = 1 # in seconds\n",
    "samps = np.zeros((SR*length,))\n",
    "\n",
    "d_scale = 0.01\n",
    "f_scale = 1.0\n",
    "for t in range(SR*length):\n",
    "    samps[t] = sum([g*(math.sin(f_scale*(f*2*math.pi)*t/SR)*(math.e**(-(t/SR)*(d_scale/d)))) for f, g, d in fgd_final])\n",
    "    \n",
    "samps_max = max(samps)\n",
    "samps /= samps_max;\n",
    "\n",
    "filename = \"sound_output/newer.wav\"\n",
    "scipy.io.wavfile.write(filename, SR, samps)"
   ]
  }
 ],
 "metadata": {
  "kernelspec": {
   "display_name": "Python 3",
   "language": "python",
   "name": "python3"
  },
  "language_info": {
   "codemirror_mode": {
    "name": "ipython",
    "version": 3
   },
   "file_extension": ".py",
   "mimetype": "text/x-python",
   "name": "python",
   "nbconvert_exporter": "python",
   "pygments_lexer": "ipython3",
   "version": "3.5.1"
  }
 },
 "nbformat": 4,
 "nbformat_minor": 0
}
